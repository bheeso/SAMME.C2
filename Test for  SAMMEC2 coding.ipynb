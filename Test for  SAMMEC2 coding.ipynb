{
 "cells": [
  {
   "cell_type": "code",
   "execution_count": null,
   "metadata": {},
   "outputs": [],
   "source": [
    "pip install -U scikit-learn\n",
    "pip install mglearn"
   ]
  },
  {
   "cell_type": "code",
   "execution_count": 1,
   "metadata": {},
   "outputs": [],
   "source": [
    "\"\"\"Make Simulation\"\"\"\n",
    "from sklearn.datasets import make_classification\n",
    "from sklearn.model_selection import train_test_split"
   ]
  },
  {
   "cell_type": "code",
   "execution_count": 2,
   "metadata": {},
   "outputs": [],
   "source": [
    "X,y = make_classification(n_samples=10000, n_features=50, n_informative=50, n_redundant=0, n_repeated=0, n_classes=3,\n",
    "                          n_clusters_per_class=2,class_sep=2,flip_y=0,weights=[0.96,0.035,0.005], random_state=16)  "
   ]
  },
  {
   "cell_type": "code",
   "execution_count": 3,
   "metadata": {},
   "outputs": [],
   "source": [
    "X_train,X_test,y_train,y_test=train_test_split(X,y,random_state=1)"
   ]
  },
  {
   "cell_type": "code",
   "execution_count": 4,
   "metadata": {},
   "outputs": [],
   "source": [
    "import GA\n",
    "import SAMMEC2"
   ]
  },
  {
   "cell_type": "code",
   "execution_count": 6,
   "metadata": {},
   "outputs": [
    {
     "name": "stdout",
     "output_type": "stream",
     "text": [
      " GENERATION 1\n",
      "([0.9817710223373315, 0.9874902740406701, 0.999], 0.6122919297246335) 0.9852\n",
      "([0.916683864575793, 0.9510321758056884, 0.999], 0.8195769012506975) 0.7148\n",
      " GENERATION 2\n",
      "([0.9567879683120735, 0.9776895163432805, 0.999], 0.7959024621960712) 0.9668\n",
      "([0.91271482134894, 0.9482104568140991, 0.999], 0.801891058432489) 0.7088\n",
      "\n",
      "🔬 FINAL RESULT\n",
      "[0.916683864575793, 0.9510321758056884, 0.999] (0.8195769012506975, 0.7148)\n"
     ]
    }
   ],
   "source": [
    "GA.GA_SAMMEC2(n_class=3,\n",
    "                err=0.01,\n",
    "                size=2,\n",
    "                generations=2,\n",
    "                n_estimators=200,\n",
    "                random_state=50).fit(X_train,y_train,X_test,y_test)"
   ]
  },
  {
   "cell_type": "code",
   "execution_count": 8,
   "metadata": {},
   "outputs": [],
   "source": [
    "SAMMEC2 = SAMMEC2.AdaBoostClassifier_C2V2(n_estimators=200, \n",
    "                                            random_state=50,\n",
    "                                            cost=[0.916683864575793, 0.9510321758056884, 0.999])\n",
    "\n",
    "SAMMEC2.fit(X_train, y_train)\n",
    "y_pred_SAMME=SAMMEC2.predict(X_test)"
   ]
  },
  {
   "cell_type": "code",
   "execution_count": 9,
   "metadata": {},
   "outputs": [
    {
     "name": "stdout",
     "output_type": "stream",
     "text": [
      "Classification Report:\n",
      "               precision    recall  f1-score   support\n",
      "\n",
      "           0       1.00      0.71      0.83      2388\n",
      "           1       0.31      0.84      0.46        98\n",
      "           2       0.02      0.93      0.05        14\n",
      "\n",
      "    accuracy                           0.71      2500\n",
      "   macro avg       0.45      0.82      0.44      2500\n",
      "weighted avg       0.97      0.71      0.81      2500\n",
      "\n",
      "G_Mean 0.8195769012506975\n",
      "F1_Measure: 0.04651162790697675\n",
      "Accuracy: 0.7148\n"
     ]
    },
    {
     "data": {
      "image/png": "[encoded data removed]",
      "text/plain": [
       "<Figure size 432x288 with 1 Axes>"
      ]
     },
     "metadata": {
      "needs_background": "light"
     },
     "output_type": "display_data"
    }
   ],
   "source": [
    "from sklearn.metrics import confusion_matrix, classification_report, f1_score\n",
    "from imblearn.metrics import geometric_mean_score\n",
    "from sklearn.metrics import accuracy_score\n",
    "import mglearn\n",
    "import matplotlib.pyplot as plt\n",
    "#Classification_report\n",
    "print(\"Classification Report:\\n\",classification_report(y_test, y_pred_SAMME))\n",
    "print(\"G_Mean\", geometric_mean_score(y_test, y_pred_SAMME,correction=0.0001))\n",
    "print(\"F1_Measure:\", f1_score(y_test, y_pred_SAMME, average=None)[2])\n",
    "print(\"Accuracy:\", accuracy_score(y_test, y_pred_SAMME))\n",
    "\n",
    "mglearn.tools.heatmap(confusion_matrix(y_test, y_pred_SAMME), xlabel='Predicted',ylabel=\"Actual\",\n",
    "                      xticklabels=[\"0\",\"1\",\"2\"], yticklabels=[\"0\",\"1\",\"2\"], cmap=plt.cm.gray_r,fmt=\"%d\")\n",
    "plt.title(\"Confusion Matrix\")\n",
    "plt.gca().invert_yaxis()"
   ]
  },
  {
   "cell_type": "code",
   "execution_count": null,
   "metadata": {},
   "outputs": [],
   "source": []
  }
 ],
 "metadata": {
  "kernelspec": {
   "display_name": "Python 3",
   "language": "python",
   "name": "python3"
  },
  "language_info": {
   "codemirror_mode": {
    "name": "ipython",
    "version": 3
   },
   "file_extension": ".py",
   "mimetype": "text/x-python",
   "name": "python",
   "nbconvert_exporter": "python",
   "pygments_lexer": "ipython3",
   "version": "3.8.16"
  }
 },
 "nbformat": 4,
 "nbformat_minor": 4
}
